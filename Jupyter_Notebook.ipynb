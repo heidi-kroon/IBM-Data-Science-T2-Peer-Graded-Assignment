{
 "cells": [
  {
   "cell_type": "markdown",
   "metadata": {},
   "source": [
    "<center>\n",
    "    <img src=\"https://s3-api.us-geo.objectstorage.softlayer.net/cf-courses-data/CognitiveClass/Logos/organization_logo/organization_logo.png\" width=\"300\" alt=\"cognitiveclass.ai logo\"  />\n",
    "</center>\n"
   ]
  },
  {
   "cell_type": "markdown",
   "metadata": {},
   "source": [
    "#### Add your code below following the instructions given in the course\n"
   ]
  },
  {
   "cell_type": "markdown",
   "metadata": {},
   "source": [
    "# My Jupyter Notebook on IBM Watson Studio"
   ]
  },
  {
   "cell_type": "markdown",
   "metadata": {},
   "source": [
    "**Heidi Amanda Kroon**\n",
    "\n",
    "Intern"
   ]
  },
  {
   "cell_type": "markdown",
   "metadata": {},
   "source": [
    "*I am interested in Data Science because I like to discover useful insights behind data that can be used to make business decisions.* "
   ]
  },
  {
   "cell_type": "markdown",
   "metadata": {},
   "source": [
    "### The code below returns a statement that tells if the inputed number is more or less than 50. "
   ]
  },
  {
   "cell_type": "code",
   "execution_count": 5,
   "metadata": {},
   "outputs": [
    {
     "name": "stdout",
     "output_type": "stream",
     "text": [
      "The number is less than 50.\n"
     ]
    }
   ],
   "source": [
    "number = 30\n",
    "\n",
    "if (number >= 50):\n",
    "    print(\"The number is more than 50.\")\n",
    "else:\n",
    "    print(\"The number is less than 50.\")"
   ]
  },
  {
   "cell_type": "markdown",
   "metadata": {},
   "source": [
    "* Bulleted list point 1\n",
    "* Bulleted list point 2\n",
    "* Bulleted list point 3\n",
    "* Bulleted list point 4\n",
    "* Bulleted list point 5\n",
    "\n",
    "***\n",
    "\n",
    "1. Numbered list point 1\n",
    "1. Numbered list point 2\n",
    "1. Numbered list point 3\n",
    "1. Numbered list point 4\n",
    "1. Numbered list point 5\n",
    "\n",
    "***\n",
    "\n",
    "Column 1 | Column 2 | Column 3\n",
    "--- | --- | --- |\n",
    "row 1 | row 1 | row 1\n",
    "row 2 | row 2 | row 2\n",
    "\n",
    "\n"
   ]
  }
 ],
 "metadata": {
  "kernelspec": {
   "display_name": "Python",
   "language": "python",
   "name": "conda-env-python-py"
  },
  "language_info": {
   "codemirror_mode": {
    "name": "ipython",
    "version": 3
   },
   "file_extension": ".py",
   "mimetype": "text/x-python",
   "name": "python",
   "nbconvert_exporter": "python",
   "pygments_lexer": "ipython3",
   "version": "3.7.12"
  }
 },
 "nbformat": 4,
 "nbformat_minor": 4
}
